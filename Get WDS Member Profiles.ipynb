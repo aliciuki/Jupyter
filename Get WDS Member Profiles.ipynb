{
 "cells": [
  {
   "cell_type": "markdown",
   "metadata": {},
   "source": [
    "_This Notebook is shared under an [Attribution-ShareAlike 4.0 International (CC BY-SA 4.0)](https://creativecommons.org/licenses/by-sa/4.0/) license._\n",
    "\n",
    "_Alicia Urquidi Diaz, GitHub:[aliciuki](https://github.com/aliciuki), Twitter: [@aliciabedul](https://www.twitter.com/aliciabedul)_\n",
    "\n",
    "-------\n",
    "\n",
    "\n",
    "# WDS Membership Data\n",
    "\n",
    "#### Crawl from www.worlddatasystem.org\n",
    "\n",
    "This Python script grabs all current WDS member profiles (Regular, Associate, Network and Partner members) listed in the official WDS site. \n",
    "\n",
    "### Outputs\n",
    "\n",
    "- `wds-members.html` contains a list of `<div>` objects--one `<div id=\"content-core\">` per member, containing the institution's logo (if provided), the repository's text description, and an information table for all WDS member profiles. \n",
    "- `wds-mem-tab.html` contains a list of all the informational tables from member profiles, as HTML tables.\n",
    "\n",
    "## 1. Import packages\n",
    "\n",
    "This script uses the [BeautifulSoup](https://www.crummy.com/software/BeautifulSoup/bs4/doc/), [requests](https://docs.python-requests.org/en/master/), and [re](https://docs.python.org/3/library/re.html) packages."
   ]
  },
  {
   "cell_type": "code",
   "execution_count": 11,
   "metadata": {},
   "outputs": [],
   "source": [
    "from bs4 import BeautifulSoup\n",
    "import requests\n",
    "import re"
   ]
  },
  {
   "cell_type": "markdown",
   "metadata": {},
   "source": [
    "## 2. Get all links to member pages\n",
    "\n",
    "First, we crawl the membership section (Regular Members, Associate Members, Network Members and Partner Members) to grab a list of links to all member profiles and save it into a `link` list."
   ]
  },
  {
   "cell_type": "code",
   "execution_count": 12,
   "metadata": {},
   "outputs": [],
   "source": [
    "membership = [\"https://www.worlddatasystem.org/community/membership/regular-members\",\"https://www.worlddatasystem.org/community/membership/network-members\",\"https://www.worlddatasystem.org/community/membership/partner-members\",\"https://www.worlddatasystem.org/community/membership/associate-members\"]\n",
    "members = []\n",
    "links = []\n",
    "\n",
    "for i in membership:\n",
    "    r = requests.get(i)\n",
    "    w = r.text\n",
    "    soup = BeautifulSoup(w, 'html.parser')\n",
    "    wds = soup.find(\"div\", {\"id\": \"content-core\"})\n",
    "    urls = wds.find_all('a')\n",
    "    url = re.findall(r'(https://www\\.worlddatasystem\\.org/community/membership.+?)\"',str(urls))\n",
    "    links.append(url) "
   ]
  },
  {
   "cell_type": "code",
   "execution_count": 13,
   "metadata": {},
   "outputs": [
    {
     "name": "stdout",
     "output_type": "stream",
     "text": [
      "['https://www.worlddatasystem.org/community/membership/regular-members/@@member_view?fid=incorporated-research-institutions-for-seismology-iris-data-management-system', 'https://www.worlddatasystem.org/community/membership/regular-members/@@member_view?fid=wdc-geoinformatics-and-sustainable-development', 'https://www.worlddatasystem.org/community/membership/regular-members/@@member_view?fid=isric-wdc-soils', 'https://www.worlddatasystem.org/community/membership/regular-members/@@member_view?fid=dkrz-wdc-climate', 'https://www.worlddatasystem.org/community/membership/regular-members/@@member_view?fid=wdc-meteorology-asheville', 'https://www.worlddatasystem.org/community/membership/regular-members/@@member_view?fid=centre-de-donnees-astronomiques-de-strasbourg-cds', 'https://www.worlddatasystem.org/community/membership/regular-members/@@member_view?fid=world-glacier-monitoring-service-zurich', 'https://www.worlddatasystem.org/community/membership/regular-members/@@member_view?fid=australian-antarctic-data-centre', 'https://www.worlddatasystem.org/community/membership/regular-members/@@member_view?fid=chinese-astronomical-data-center', 'https://www.worlddatasystem.org/community/membership/regular-members/@@member_view?fid=wdc-renewable-resources-and-environment', 'https://www.worlddatasystem.org/community/membership/regular-members/@@member_view?fid=flanders-marine-institute-data-centre', 'https://www.worlddatasystem.org/community/membership/regular-members/@@member_view?fid=wdc-oceanography-silver-spring', 'https://www.worlddatasystem.org/community/membership/regular-members/@@member_view?fid=international-earth-rotation-and-reference-systems', 'https://www.worlddatasystem.org/community/membership/regular-members/@@member_view?fid=fish-database-of-taiwan-academia-sinica-taiwan', 'https://www.worlddatasystem.org/community/membership/regular-members/@@member_view?fid=wdc-oceanography-tianjin', 'https://www.worlddatasystem.org/community/membership/regular-members/@@member_view?fid=world-data-service-for-geophysics', 'https://www.worlddatasystem.org/community/membership/regular-members/@@member_view?fid=pangaea-data-publisher-for-earth-environmental-science', 'https://www.worlddatasystem.org/community/membership/regular-members/@@member_view?fid=wdc-solar-terrestrial-physics-moscow', 'https://www.worlddatasystem.org/community/membership/regular-members/@@member_view?fid=wdc-sunspot-index-and-long-term-solar-observations-silso', 'https://www.worlddatasystem.org/community/membership/regular-members/@@member_view?fid=wdc-oceanography-obninsk', 'https://www.worlddatasystem.org/community/membership/regular-members/@@member_view?fid=wdc-remote-sensing-of-the-atmosphere', 'https://www.worlddatasystem.org/community/membership/regular-members/@@member_view?fid=wdc-geomagnetism-copenhagen', 'https://www.worlddatasystem.org/community/membership/regular-members/@@member_view?fid=international-service-of-geomagnetic-indices', 'https://www.worlddatasystem.org/community/membership/regular-members/@@member_view?fid=wdc-geomagnetism-edinburgh', 'https://www.worlddatasystem.org/community/membership/regular-members/@@member_view?fid=wdc-solid-earth-physics-moscow', 'https://www.worlddatasystem.org/community/membership/regular-members/@@member_view?fid=wdc-meteorology-obninsk', 'https://www.worlddatasystem.org/community/membership/regular-members/@@member_view?fid=wdc-solar-activity-bass2000', 'https://www.worlddatasystem.org/community/membership/regular-members/@@member_view?fid=wdc-geomagnetism-kyoto', 'https://www.worlddatasystem.org/community/membership/regular-members/@@member_view?fid=integrated-earth-data-applications', 'https://www.worlddatasystem.org/community/membership/regular-members/@@member_view?fid=australian-bureau-of-meteorology', 'https://www.worlddatasystem.org/community/membership/regular-members/@@member_view?fid=nsidc-daac', 'https://www.worlddatasystem.org/community/membership/regular-members/@@member_view?fid=oak-ridge-national-laboratory-distributed-active-archive-center-ornl-daac', 'https://www.worlddatasystem.org/community/membership/regular-members/@@member_view?fid=world-stress-map-project', 'https://www.worlddatasystem.org/community/membership/regular-members/@@member_view?fid=wdc-cu', 'https://www.worlddatasystem.org/community/membership/regular-members/@@member_view?fid=wdc-ionosphere-and-space-weather', 'https://www.worlddatasystem.org/community/membership/regular-members/@@member_view?fid=ukrainian-geospatial-data-center', 'https://www.worlddatasystem.org/community/membership/regular-members/@@member_view?fid=data-centre-for-geography-moscow', 'https://www.worlddatasystem.org/community/membership/regular-members/@@member_view?fid=wdc-earth-resources-observation-and-science-eros', 'https://www.worlddatasystem.org/community/membership/regular-members/@@member_view?fid=the-language-archive', 'https://www.worlddatasystem.org/community/membership/regular-members/@@member_view?fid=paleoclimatology-branch-noaas-national-climatic-data-center', 'https://www.worlddatasystem.org/community/membership/regular-members/@@member_view?fid=datafirst', 'https://www.worlddatasystem.org/community/membership/regular-members/@@member_view?fid=wfcc-world-data-centre-for-microorganisms', 'https://www.worlddatasystem.org/community/membership/regular-members/@@member_view?fid=goddard-earth-sciences-data-and-information-services-center-ges-disc', 'https://www.worlddatasystem.org/community/membership/regular-members/@@member_view?fid=crustal-dynamics-data-information-system-cddis', 'https://www.worlddatasystem.org/community/membership/regular-members/@@member_view?fid=chinese-space-science-data-center', 'https://www.worlddatasystem.org/community/membership/regular-members/@@member_view?fid=cold-and-arid-regions-science-data-center-at-lanzhou-card', 'https://www.worlddatasystem.org/community/membership/regular-members/@@member_view?fid=global-hydrology-resource-center-ghrc', 'https://www.worlddatasystem.org/community/membership/regular-members/@@member_view?fid=italian-centre-for-astronomical-archive-ia2', 'https://www.worlddatasystem.org/community/membership/regular-members/@@member_view?fid=inter-university-consortium-for-political-and-social-research-icpsr', 'https://www.worlddatasystem.org/community/membership/regular-members/@@member_view?fid=atmospheric-science-data-center-distributed-active-archive-center', 'https://www.worlddatasystem.org/community/membership/regular-members/@@member_view?fid=wdc-geomagnetism-mumbai', 'https://www.worlddatasystem.org/community/membership/regular-members/@@member_view?fid=canadian-astronomy-data-centre-canadian-virtual-observatory', 'https://www.worlddatasystem.org/community/membership/regular-members/@@member_view?fid=alaska-satellite-facility', 'https://www.worlddatasystem.org/community/membership/regular-members/@@member_view?fid=ocean-networks-canada', 'https://www.worlddatasystem.org/community/membership/regular-members/@@member_view?fid=socioeconomic-data-and-applications-center-sedac', 'https://www.worlddatasystem.org/community/membership/regular-members/@@member_view?fid=unavco-inc', 'https://www.worlddatasystem.org/community/membership/regular-members/@@member_view?fid=land-processes-distributed-active-archive-center', 'https://www.worlddatasystem.org/community/membership/regular-members/@@member_view?fid=permanent-service-for-mean-sea-level-psmsl', 'https://www.worlddatasystem.org/community/membership/regular-members/@@member_view?fid=dans', 'https://www.worlddatasystem.org/community/membership/regular-members/@@member_view?fid=research-institute-for-sustainable-humanosphere-kyoto-university', 'https://www.worlddatasystem.org/community/membership/regular-members/@@member_view?fid=the-cambridge-crystallographic-data-centre', 'https://www.worlddatasystem.org/community/membership/regular-members/@@member_view?fid=global-biodiversity-information-facility', 'https://www.worlddatasystem.org/community/membership/regular-members/@@member_view?fid=wdc-for-geophysics-beijing', 'https://www.worlddatasystem.org/community/membership/regular-members/@@member_view?fid=global-change-research-data-publishing-and-repository', 'https://www.worlddatasystem.org/community/membership/regular-members/@@member_view?fid=canadian-cryospheric-information-network-polar-data-catalogue', 'https://www.worlddatasystem.org/community/membership/regular-members/@@member_view?fid=swedish-national-data-service', 'https://www.worlddatasystem.org/community/membership/regular-members/@@member_view?fid=centre-for-astronomical-data-of-the-institute-of-astronomy-of-the-russian-academy-of-sciences', 'https://www.worlddatasystem.org/community/membership/regular-members/@@member_view?fid=ocean-biology-data-active-archive-center-ob-daac', 'https://www.worlddatasystem.org/community/membership/regular-members/@@member_view?fid=neotoma-paleoecological-database', 'https://www.worlddatasystem.org/community/membership/regular-members/@@member_view?fid=immport-repository', 'https://www.worlddatasystem.org/community/membership/regular-members/@@member_view?fid=worldwide-protein-data-bank-wwpdb', 'https://www.worlddatasystem.org/community/membership/regular-members/@@member_view?fid=australian-data-archive', 'https://www.worlddatasystem.org/community/membership/regular-members/@@member_view?fid=national-geoscience-data-centre', 'https://www.worlddatasystem.org/community/membership/regular-members/@@member_view?fid=california-digital-library', 'https://www.worlddatasystem.org/community/membership/regular-members/@@member_view?fid=digital-repositiory-of-ireland', 'https://www.worlddatasystem.org/community/membership/regular-members/@@member_view?fid=norwegian-marine-data-centre-nmd', 'https://www.worlddatasystem.org/community/membership/regular-members/@@member_view?fid=survey-research-data-archive', 'https://www.worlddatasystem.org/community/membership/regular-members/@@member_view?fid=physical-oceanography-distributed-active-archive-center', 'https://www.worlddatasystem.org/community/membership/regular-members/@@member_view?fid=national-center-for-atmospheric-research', 'https://www.worlddatasystem.org/community/membership/regular-members/@@member_view?fid=laads-daac', 'https://www.worlddatasystem.org/community/membership/regular-members/@@member_view?fid=the-environmental-information-data-centre', 'https://www.worlddatasystem.org/community/membership/regular-members/@@member_view?fid=paradisec', 'https://www.worlddatasystem.org/community/membership/regular-members/@@member_view?fid=archaeology-data-service', 'https://www.worlddatasystem.org/community/membership/regular-members/@@member_view?fid=arm-data-center', 'https://www.worlddatasystem.org/community/membership/regular-members/@@member_view?fid=geoscientific-data-discovery-publishing-system', 'https://www.worlddatasystem.org/community/membership/regular-members/@@member_view?fid=odum-institute-data-archive', 'https://www.worlddatasystem.org/community/membership/network-members/@@member_view?fid=international-vlbi-service-for-geodesy-and-astrometry', 'https://www.worlddatasystem.org/community/membership/network-members/@@member_view?fid=international-laser-ranging-service', 'https://www.worlddatasystem.org/community/membership/network-members/@@member_view?fid=international-gnss-service', 'https://www.worlddatasystem.org/community/membership/network-members/@@member_view?fid=international-virtual-observatory-alliance-ivoa', 'https://www.worlddatasystem.org/community/membership/network-members/@@member_view?fid=international-oceanographic-data-and-information-exchange-iode', 'https://www.worlddatasystem.org/community/membership/network-members/@@member_view?fid=nasa-esdis-project', 'https://www.worlddatasystem.org/community/membership/network-members/@@member_view?fid=international-space-environment-service-ises', 'https://www.worlddatasystem.org/community/membership/network-members/@@member_view?fid=clarin-eric', 'https://www.worlddatasystem.org/community/membership/network-members/@@member_view?fid=international-doris-service', 'https://www.worlddatasystem.org/community/membership/network-members/@@member_view?fid=intermagnet', 'https://www.worlddatasystem.org/community/membership/network-members/@@member_view?fid=nerc-environmental-data-centres', 'https://www.worlddatasystem.org/community/membership/partner-members/@@member_view?fid=international-union-of-geodesy-and-geophysics', 'https://www.worlddatasystem.org/community/membership/partner-members/@@member_view?fid=international-environmental-data-rescue-organization-iedro', 'https://www.worlddatasystem.org/community/membership/partner-members/@@member_view?fid=datacite', 'https://www.worlddatasystem.org/community/membership/partner-members/@@member_view?fid=federation-of-earth-science-information-partners-esip', 'https://www.worlddatasystem.org/community/membership/partner-members/@@member_view?fid=scientific-committee-on-solar-terrestrial-physics-scostep', 'https://www.worlddatasystem.org/community/membership/partner-members/@@member_view?fid=global-geodetic-observing-system', 'https://www.worlddatasystem.org/community/membership/partner-members/@@member_view?fid=orcid', 'https://www.worlddatasystem.org/community/membership/partner-members/@@member_view?fid=southern-ocean-observing-system', 'https://www.worlddatasystem.org/community/membership/partner-members/@@member_view?fid=openaire', 'https://www.worlddatasystem.org/community/membership/partner-members/@@member_view?fid=pages-past-global-changes', 'https://www.worlddatasystem.org/community/membership/partner-members/@@member_view?fid=mountain-research-initiative-mri', 'https://www.worlddatasystem.org/community/membership/associate-members/@@member_view?fid=international-assoc-of-stm-publishers', 'https://www.worlddatasystem.org/community/membership/associate-members/@@member_view?fid=john-wiley-sons-ltd', 'https://www.worlddatasystem.org/community/membership/associate-members/@@member_view?fid=international-association-of-hydrological-sciences', 'https://www.worlddatasystem.org/community/membership/associate-members/@@member_view?fid=international-mathematical-union-committee-on-electronic-information-and-communication', 'https://www.worlddatasystem.org/community/membership/associate-members/@@member_view?fid=international-union-of-geological-sciences', 'https://www.worlddatasystem.org/community/membership/associate-members/@@member_view?fid=french-academy-of-sciences', 'https://www.worlddatasystem.org/community/membership/associate-members/@@member_view?fid=the-royal-society-of-new-zealand', 'https://www.worlddatasystem.org/community/membership/associate-members/@@member_view?fid=datta-meghe-institute-of-medical-sciences-deemed-university', 'https://www.worlddatasystem.org/community/membership/associate-members/@@member_view?fid=international-commission-for-acoustics', 'https://www.worlddatasystem.org/community/membership/associate-members/@@member_view?fid=elsevier', 'https://www.worlddatasystem.org/community/membership/associate-members/@@member_view?fid=worldwidescience-alliance', 'https://www.worlddatasystem.org/community/membership/associate-members/@@member_view?fid=korea-institute-of-science-and-technology-information-kisti', 'https://www.worlddatasystem.org/community/membership/associate-members/@@member_view?fid=byurakan-astrophysical-observatory-armenian-virtual-observatory', 'https://www.worlddatasystem.org/community/membership/associate-members/@@member_view?fid=research-council-of-zimbabwe', 'https://www.worlddatasystem.org/community/membership/associate-members/@@member_view?fid=international-union-of-history-and-philosophy-of-science-division-of-history-of-science-and-technology', 'https://www.worlddatasystem.org/community/membership/associate-members/@@member_view?fid=international-council-for-scientific-and-technical-information-icsti', 'https://www.worlddatasystem.org/community/membership/associate-members/@@member_view?fid=icsu-committee-on-data-for-science-and-technology-codata', 'https://www.worlddatasystem.org/community/membership/associate-members/@@member_view?fid=research-data-alliance-rda', 'https://www.worlddatasystem.org/community/membership/associate-members/@@member_view?fid=chilean-virtual-observatory-chivo', 'https://www.worlddatasystem.org/community/membership/associate-members/@@member_view?fid=arab-council-for-the-social-sciences']\n"
     ]
    }
   ],
   "source": [
    "link = []\n",
    "for i in links:\n",
    "    for x in i:\n",
    "        link.append(x)\n",
    "print(link)"
   ]
  },
  {
   "cell_type": "markdown",
   "metadata": {},
   "source": [
    "## 3. Crawl site and parse HTML with BeautifulSoup\n",
    "\n",
    "### Grab _content core_\n",
    "We use `requests` to get all html files and parse them with `BeautifulSoup`. The output of this step is `wds-members.html`.\n"
   ]
  },
  {
   "cell_type": "code",
   "execution_count": 14,
   "metadata": {},
   "outputs": [],
   "source": [
    "with open(\"wds-members.html\", \"w+\") as o:\n",
    "    for i in link:\n",
    "        r = requests.get(i)\n",
    "        w = r.text\n",
    "        soup = BeautifulSoup(w, 'html.parser')\n",
    "        wds = soup.find(\"div\", {\"id\": \"content-core\"})\n",
    "        o.write(str(wds))    "
   ]
  },
  {
   "cell_type": "markdown",
   "metadata": {},
   "source": [
    "### Grab tables only\n",
    "\n",
    "We parse `wds-members.html` to grab the info tables and write them into `wds-mem-tab.html`:"
   ]
  },
  {
   "cell_type": "code",
   "execution_count": 19,
   "metadata": {},
   "outputs": [],
   "source": [
    "m = open('wds-members.html', 'r')\n",
    "soup = BeautifulSoup(m, 'html.parser')\n",
    "a = soup.find_all('table')\n",
    "t = str(a)\n",
    "o = open('wds-mem-tab.html','w+')\n",
    "o.write(t)\n",
    "o.close()"
   ]
  }
 ],
 "metadata": {
  "kernelspec": {
   "display_name": "Python 3",
   "language": "python",
   "name": "python3"
  },
  "language_info": {
   "codemirror_mode": {
    "name": "ipython",
    "version": 3
   },
   "file_extension": ".py",
   "mimetype": "text/x-python",
   "name": "python",
   "nbconvert_exporter": "python",
   "pygments_lexer": "ipython3",
   "version": "3.7.6"
  }
 },
 "nbformat": 4,
 "nbformat_minor": 4
}
